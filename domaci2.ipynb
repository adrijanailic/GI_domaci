{
 "cells": [
  {
   "cell_type": "code",
   "execution_count": null,
   "metadata": {},
   "outputs": [],
   "source": [
    "import pysam"
   ]
  },
  {
   "cell_type": "markdown",
   "metadata": {},
   "source": [
    "Create an AlignmentFile object for “merged-tumor.bam” from Public files gallery\n",
    "○ Take the first read from the AlignmentFile\n",
    "○ Inspect the fields in the AlignedSegment\n",
    "○ Inspect the flag field"
   ]
  },
  {
   "cell_type": "code",
   "execution_count": 23,
   "metadata": {},
   "outputs": [
    {
     "name": "stdout",
     "output_type": "stream",
     "text": [
      "C0HVYACXX120402:7:1207:5722:57044\t1187\t20\t9483248\t27\t76M\t20\t9483381\t76\tTTTTCAAACAGTATCTATGCCTGCCAAATGTGAACATATAAAAAAAAACCAGAATGTGCCATTCTGATTTAAACTG\tarray('B', [28, 28, 27, 29, 31, 30, 31, 31, 29, 31, 35, 30, 29, 31, 34, 30, 29, 23, 41, 32, 20, 30, 29, 34, 34, 29, 30, 31, 30, 30, 30, 33, 33, 26, 39, 12, 25, 19, 32, 30, 35, 28, 35, 33, 23, 33, 35, 36, 30, 38, 33, 41, 34, 35, 31, 33, 23, 30, 30, 36, 27, 32, 29, 34, 35, 41, 33, 31, 33, 29, 32, 32, 31, 31, 31, 34])\t[('XA', 'GL000217.1,-110754,76M,1;'), ('BD', 'NNNNNNNNNNNNNNNNNNNNNNNNNNNNNNNNNNNNNNNNNNNNNNNNNNNNNNNNNNNNNNNNNNNNNNNNNNNN'), ('MD', '76'), ('RG', '1'), ('BI', 'NNNNNNNNNNNNNNNNNNNNNNNNNNNNNNNNNNNNNNNNNNNNNNNNNNNNNNNNNNNNNNNNNNNNNNNNNNNN'), ('NM', 0), ('MQ', 27), ('AS', 76), ('XS', 71)]\n"
     ]
    }
   ],
   "source": [
    "samfile = pysam.AlignmentFile(\"/sbgenomics/project-files/merged-tumor.bam\")\n",
    "for read in samfile:\n",
    "    read1 = read\n",
    "    break;\n",
    "print(read)\n",
    "samfile.close()"
   ]
  },
  {
   "cell_type": "markdown",
   "metadata": {},
   "source": [
    "Calculate:\n",
    "○ How many unmapped reads are in the file?\n",
    "○ Total number of reads\n",
    "○ Number of reads with mapping quality 0\n",
    "○ Average mapping quality for all the reads\n",
    "○ Average mapping quality if reads with 0 mapp quality are filtered out"
   ]
  },
  {
   "cell_type": "code",
   "execution_count": 22,
   "metadata": {},
   "outputs": [
    {
     "name": "stdout",
     "output_type": "stream",
     "text": [
      "Total number of reads:  2921629\n",
      "Number of unmaped reads:  17765\n",
      "Number of reads with mapping quality 0:  126628\n",
      "Average mapping quality for all the reads 55.91379158681681\n",
      "Average mapping quality if reads with 0 mapp quality are filtered out 58.446975510921106\n"
     ]
    }
   ],
   "source": [
    "samfile = pysam.AlignmentFile(\"/sbgenomics/project-files/merged-tumor.bam\")\n",
    "num_of_unmapped_reads = 0\n",
    "num_of_reads = 0\n",
    "num_of_0_quality_reads = 0\n",
    "total_map_quality = 0\n",
    "for read in samfile:\n",
    "    if(4&read.flag != 0): \n",
    "        num_of_unmapped_reads += 1\n",
    "    num_of_reads += 1\n",
    "    if read.mapping_quality == 0:\n",
    "        num_of_0_quality_reads += 1\n",
    "    total_map_quality += read.mapping_quality\n",
    "    \n",
    "print('Total number of reads: ',num_of_reads)\n",
    "print('Number of unmaped reads: ',num_of_unmapped_reads)\n",
    "print('Number of reads with mapping quality 0: ', num_of_0_quality_reads)\n",
    "print('Average mapping quality for all the reads', total_map_quality/num_of_reads)\n",
    "print('Average mapping quality if reads with 0 mapp quality are filtered out', total_map_quality/(num_of_reads-num_of_0_quality_reads))\n",
    "\n",
    "samfile.close()"
   ]
  }
 ],
 "metadata": {
  "kernelspec": {
   "display_name": "Python 3",
   "language": "python",
   "name": "python3"
  },
  "language_info": {
   "codemirror_mode": {
    "name": "ipython",
    "version": 3
   },
   "file_extension": ".py",
   "mimetype": "text/x-python",
   "name": "python",
   "nbconvert_exporter": "python",
   "pygments_lexer": "ipython3",
   "version": "3.6.3"
  }
 },
 "nbformat": 4, 
 "nbformat_minor": 2
}
